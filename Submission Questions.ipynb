{
 "cells": [
  {
   "cell_type": "markdown",
   "metadata": {},
   "source": [
    "# Were you able to successfully create and execute the pipeline using the provided walkthrough?"
   ]
  },
  {
   "cell_type": "markdown",
   "metadata": {},
   "source": [
    "###### Please provide your answer here &darr;"
   ]
  },
  {
   "cell_type": "markdown",
   "metadata": {},
   "source": [
    "No I was not. I need to take more time and focus on this content because it's super interesting and relevant, but I haven't had time to with my recent prioirities with clients. "
   ]
  },
  {
   "cell_type": "markdown",
   "metadata": {},
   "source": [
    "# What (if any) blockers did you encounter?"
   ]
  },
  {
   "cell_type": "markdown",
   "metadata": {},
   "source": [
    "###### Please provide your answer here &darr;"
   ]
  },
  {
   "cell_type": "markdown",
   "metadata": {},
   "source": [
    "None, my AWS is set up correctly"
   ]
  },
  {
   "cell_type": "markdown",
   "metadata": {},
   "source": [
    "# Do you have any suggestions for improving this material?"
   ]
  },
  {
   "cell_type": "markdown",
   "metadata": {},
   "source": [
    "###### Please provide your answer here &darr;"
   ]
  },
  {
   "cell_type": "markdown",
   "metadata": {},
   "source": [
    "No Overall the lectures have been helpful, just need to spend more time on this individual to focus on the key content and get more practice."
   ]
  }
 ],
 "metadata": {
  "kernelspec": {
   "display_name": "Python 3",
   "language": "python",
   "name": "python3"
  },
  "language_info": {
   "codemirror_mode": {
    "name": "ipython",
    "version": 3
   },
   "file_extension": ".py",
   "mimetype": "text/x-python",
   "name": "python",
   "nbconvert_exporter": "python",
   "pygments_lexer": "ipython3",
   "version": "3.8.5"
  }
 },
 "nbformat": 4,
 "nbformat_minor": 5
}
